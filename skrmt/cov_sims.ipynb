{
 "metadata": {
  "language_info": {
   "codemirror_mode": {
    "name": "ipython",
    "version": 3
   },
   "file_extension": ".py",
   "mimetype": "text/x-python",
   "name": "python",
   "nbconvert_exporter": "python",
   "pygments_lexer": "ipython3",
   "version": "3.7.9-final"
  },
  "orig_nbformat": 2,
  "kernelspec": {
   "name": "python379jvsc74a57bd0398dc28c06ad810e77de546bbdfa897a6ee0b83e59a5207339dda01a7843e01d",
   "display_name": "Python 3.7.9 64-bit ('base': conda)"
  }
 },
 "nbformat": 4,
 "nbformat_minor": 2,
 "cells": [
  {
   "source": [
    "# Estimation of covariance matrices"
   ],
   "cell_type": "markdown",
   "metadata": {}
  },
  {
   "cell_type": "code",
   "execution_count": 25,
   "metadata": {},
   "outputs": [],
   "source": [
    "import math\n",
    "import numpy as np\n",
    "import matplotlib.pyplot as plt\n",
    "\n",
    "from covariance.analytical_shrinkage import AnalyticalShrinkage\n",
    "from covariance.linear_shrinkage import LinearShrinkage\n",
    "from covariance.estimator import SampleEstimator, FSOptEstimator, EmpiricalBayesianEstimator\n",
    "from covariance.metrics import loss_mv, loss_frobenius, PRIAL_mv"
   ]
  },
  {
   "cell_type": "code",
   "execution_count": 66,
   "metadata": {},
   "outputs": [],
   "source": [
    "analshr = AnalyticalShrinkage()\n",
    "linshr = LinearShrinkage()\n",
    "sample_est = SampleEstimator()\n",
    "eb_est = EmpiricalBayesianEstimator"
   ]
  },
  {
   "source": [
    "## Sampling random population covariance matrix (Sigma)"
   ],
   "cell_type": "markdown",
   "metadata": {}
  },
  {
   "source": [
    "#### First, let's build a method to sample orthogonal random matrices"
   ],
   "cell_type": "markdown",
   "metadata": {}
  },
  {
   "cell_type": "code",
   "execution_count": 10,
   "metadata": {},
   "outputs": [],
   "source": [
    "def sample_rand_orthogonal_mtx(n):\n",
    "    # n by n random complex matrix\n",
    "    X = np.random.randn(n,n)\n",
    "    # orthonormalizing matrix using QR algorithm\n",
    "    Q,_ = np.linalg.qr(X)\n",
    "    return Q"
   ]
  },
  {
   "cell_type": "code",
   "execution_count": 18,
   "metadata": {},
   "outputs": [
    {
     "output_type": "execute_result",
     "data": {
      "text/plain": [
       "array([[ 1.,  0.,  0.,  0.,  0.],\n",
       "       [ 0.,  1.,  0.,  0.,  0.],\n",
       "       [ 0.,  0.,  1., -0., -0.],\n",
       "       [ 0.,  0., -0.,  1.,  0.],\n",
       "       [ 0.,  0., -0.,  0.,  1.]])"
      ]
     },
     "metadata": {},
     "execution_count": 18
    }
   ],
   "source": [
    "M = sample_rand_orthogonal_mtx(5) \n",
    "np.round(np.matmul(M, M.T), 12)"
   ]
  },
  {
   "source": [
    "#### Now, let's sample a diagonal matrix with a certain proportion of eigenvalues"
   ],
   "cell_type": "markdown",
   "metadata": {}
  },
  {
   "cell_type": "code",
   "execution_count": 36,
   "metadata": {},
   "outputs": [],
   "source": [
    "def sample_diagEig_mtx(p):\n",
    "    ONE_PROP = 0.2    # proportion of eigenvalues equal to one\n",
    "    THREE_PROP = 0.4  # proportion of eigenvalues equal to three\n",
    "    TEN_PROP = 0.4    # proportion of eigenvalues equal to ten\n",
    "\n",
    "    n_one = math.ceil(p * ONE_PROP)       # number of eigenvalues equal to one\n",
    "    n_three = math.floor(p * THREE_PROP)  # number of eigenvalues equal to three\n",
    "    n_ten = p - n_one - n_three           # number of eigenvalues equal to ten\n",
    "\n",
    "    # building eigenvalues\n",
    "    one_eigs = [1.0]*n_one\n",
    "    three_eigs = [3.0]*n_three\n",
    "    ten_eigs = [10.0]*n_ten\n",
    "    # concatenating eigenvalues lists\n",
    "    eigs = one_eigs + three_eigs + ten_eigs\n",
    "    # shuffling eigenvalues\n",
    "    np.random.shuffle(eigs)\n",
    "    # building diagonal matrix\n",
    "    M = np.diag(eigs)\n",
    "    return M"
   ]
  },
  {
   "cell_type": "code",
   "execution_count": 45,
   "metadata": {},
   "outputs": [
    {
     "output_type": "execute_result",
     "data": {
      "text/plain": [
       "array([[ 3.,  0.,  0.,  0.,  0.],\n",
       "       [ 0., 10.,  0.,  0.,  0.],\n",
       "       [ 0.,  0.,  3.,  0.,  0.],\n",
       "       [ 0.,  0.,  0.,  1.,  0.],\n",
       "       [ 0.,  0.,  0.,  0., 10.]])"
      ]
     },
     "metadata": {},
     "execution_count": 45
    }
   ],
   "source": [
    "sample_diagEig_mtx(5)"
   ]
  },
  {
   "source": [
    "#### to create a random population matrix (not necessarily diagonal) we use both functions"
   ],
   "cell_type": "markdown",
   "metadata": {}
  },
  {
   "cell_type": "code",
   "execution_count": 51,
   "metadata": {},
   "outputs": [],
   "source": [
    "def sample_pop_cov(p, diag=False):\n",
    "    if diag:\n",
    "        return sample_diagEig_mtx(p)\n",
    "    else:\n",
    "        O = sample_rand_orthogonal_mtx(p)\n",
    "        M = sample_diagEig_mtx(p)\n",
    "        # O M O.T preserves original eigenvalues (O is an orthogonal rotation)\n",
    "        return np.matmul(np.matmul(O, M), O.T) # sampling \\Sigma"
   ]
  },
  {
   "cell_type": "code",
   "execution_count": 53,
   "metadata": {},
   "outputs": [
    {
     "output_type": "execute_result",
     "data": {
      "text/plain": [
       "array([ 1., 10., 10.,  3.,  3.])"
      ]
     },
     "metadata": {},
     "execution_count": 53
    }
   ],
   "source": [
    "Sigma = sample_pop_cov(5)\n",
    "np.linalg.eigvals(Sigma)"
   ]
  },
  {
   "source": [
    "## Sampling dataset using population covariance matrix (Sigma)"
   ],
   "cell_type": "markdown",
   "metadata": {}
  },
  {
   "cell_type": "code",
   "execution_count": 62,
   "metadata": {},
   "outputs": [
    {
     "output_type": "stream",
     "name": "stdout",
     "text": [
      "Shape: (10, 5)\nRandom generated dataset:\n [[-2.55854161 -0.21032277  0.34164514  1.74807977 -1.92248937]\n [ 4.05721814  0.57437241 -1.80716247 -3.64794955  4.3723337 ]\n [-3.49631905  0.51208678 -2.36383886 -0.04511112  2.13134723]\n [-5.39668058 -2.34351835 -0.19474646  2.27195219 -2.28249785]\n [-5.17591679 -0.56141896  3.13210634  2.92909646 -1.47376948]\n [-3.07709575 -1.3481458   1.1436639   0.45434139 -1.44333464]\n [ 0.99716777 -0.60400778 -1.24983323  1.133208    2.45073637]\n [ 1.51870019 -0.53705     3.01233139 -0.74123213  1.68977933]\n [-4.57658339 -1.42730276 -0.28265274  1.26742946  1.54039592]\n [-2.68474052  5.64446152  1.1995579   0.24871691  3.17230273]]\n"
     ]
    }
   ],
   "source": [
    "p, n = 5, 10\n",
    "\n",
    "Sigma = sample_pop_cov(p)\n",
    "X = np.random.multivariate_normal(np.random.randn(p), Sigma, size=n)\n",
    "print('Shape:', X.shape)\n",
    "print('Random generated dataset:\\n', X)"
   ]
  },
  {
   "source": [
    "## Testing estimators and metrics"
   ],
   "cell_type": "markdown",
   "metadata": {}
  },
  {
   "cell_type": "code",
   "execution_count": 64,
   "metadata": {},
   "outputs": [
    {
     "output_type": "stream",
     "name": "stdout",
     "text": [
      "Shape: (600, 200)\n"
     ]
    }
   ],
   "source": [
    "p, n = 200, 600\n",
    "\n",
    "Sigma = sample_pop_cov(p)\n",
    "X = np.random.multivariate_normal(np.random.randn(p), Sigma, size=n)\n",
    "print('Shape:', X.shape)"
   ]
  },
  {
   "cell_type": "code",
   "execution_count": 73,
   "metadata": {},
   "outputs": [
    {
     "output_type": "stream",
     "name": "stdout",
     "text": [
      "S sample estim. shape: (200, 200)\n"
     ]
    }
   ],
   "source": [
    "Sample = sample_est.estimate(X)\n",
    "print('S sample estim. shape:', Sample.shape)"
   ]
  },
  {
   "cell_type": "code",
   "execution_count": 69,
   "metadata": {},
   "outputs": [
    {
     "output_type": "stream",
     "name": "stdout",
     "text": [
      "S_star shape: (200, 200)\n"
     ]
    }
   ],
   "source": [
    "fsopt_est = FSOptEstimator(Sigma)\n",
    "S_star = fsopt_est.estimate(X)\n",
    "print('S_star shape:', S_star.shape)"
   ]
  },
  {
   "source": [
    "### Checking that PRIAL(Sample) = 0%"
   ],
   "cell_type": "markdown",
   "metadata": {}
  },
  {
   "cell_type": "code",
   "execution_count": 79,
   "metadata": {},
   "outputs": [
    {
     "output_type": "execute_result",
     "data": {
      "text/plain": [
       "0.0"
      ]
     },
     "metadata": {},
     "execution_count": 79
    }
   ],
   "source": [
    "E_Sn = loss_mv(Sigma_tilde=Sample, Sigma=Sigma)\n",
    "E_Sigma_tilde = loss_mv(Sigma_tilde=Sample, Sigma=Sigma)\n",
    "E_Sstar = loss_mv(Sigma_tilde=S_star, Sigma=Sigma)\n",
    "\n",
    "PRIAL_mv(E_Sn=E_Sn, E_Sigma_tilde=E_Sigma_tilde, E_Sstar=E_Sstar)"
   ]
  },
  {
   "source": [
    "### Checking that PRIAL(S_star) = 100%"
   ],
   "cell_type": "markdown",
   "metadata": {}
  },
  {
   "cell_type": "code",
   "execution_count": 77,
   "metadata": {},
   "outputs": [
    {
     "output_type": "execute_result",
     "data": {
      "text/plain": [
       "1.0"
      ]
     },
     "metadata": {},
     "execution_count": 77
    }
   ],
   "source": [
    "E_Sn = loss_mv(Sigma_tilde=Sample, Sigma=Sigma)\n",
    "E_Sigma_tilde = loss_mv(Sigma_tilde=S_star, Sigma=Sigma)\n",
    "E_Sstar = loss_mv(Sigma_tilde=S_star, Sigma=Sigma)\n",
    "\n",
    "PRIAL_mv(E_Sn=E_Sn, E_Sigma_tilde=E_Sigma_tilde, E_Sstar=E_Sstar)"
   ]
  },
  {
   "source": [
    "#### After these tests we are more confident that estimators FSOptEstimator and SampleEstimator, as well as metrics loss_mv and PRIAL_mv, are working properly"
   ],
   "cell_type": "markdown",
   "metadata": {}
  },
  {
   "source": [
    "# Monte Carlo simulations"
   ],
   "cell_type": "markdown",
   "metadata": {}
  },
  {
   "cell_type": "code",
   "execution_count": null,
   "metadata": {},
   "outputs": [],
   "source": [
    "import math\n",
    "import numpy as np\n",
    "import matplotlib.pyplot as plt\n",
    "\n",
    "from covariance.analytical_shrinkage import AnalyticalShrinkage\n",
    "from covariance.linear_shrinkage import LinearShrinkage\n",
    "from covariance.estimator import SampleEstimator, FSOptEstimator, EmpiricalBayesianEstimator\n",
    "from covariance.metrics import loss_mv, loss_frobenius, PRIAL_mv"
   ]
  },
  {
   "cell_type": "code",
   "execution_count": 81,
   "metadata": {},
   "outputs": [],
   "source": [
    "def sample_rand_orthogonal_mtx(n):\n",
    "    # n by n random complex matrix\n",
    "    X = np.random.randn(n,n)\n",
    "    # orthonormalizing matrix using QR algorithm\n",
    "    Q,_ = np.linalg.qr(X)\n",
    "    return Q"
   ]
  },
  {
   "cell_type": "code",
   "execution_count": null,
   "metadata": {},
   "outputs": [],
   "source": [
    "def sample_diagEig_mtx(p):\n",
    "    ONE_PROP = 0.2    # proportion of eigenvalues equal to one\n",
    "    THREE_PROP = 0.4  # proportion of eigenvalues equal to three\n",
    "    TEN_PROP = 0.4    # proportion of eigenvalues equal to ten\n",
    "\n",
    "    n_one = math.ceil(p * ONE_PROP)       # number of eigenvalues equal to one\n",
    "    n_three = math.floor(p * THREE_PROP)  # number of eigenvalues equal to three\n",
    "    n_ten = p - n_one - n_three           # number of eigenvalues equal to ten\n",
    "\n",
    "    # building eigenvalues\n",
    "    one_eigs = [1.0]*n_one\n",
    "    three_eigs = [3.0]*n_three\n",
    "    ten_eigs = [10.0]*n_ten\n",
    "    # concatenating eigenvalues lists\n",
    "    eigs = one_eigs + three_eigs + ten_eigs\n",
    "    # shuffling eigenvalues\n",
    "    np.random.shuffle(eigs)\n",
    "    # building diagonal matrix\n",
    "    M = np.diag(eigs)\n",
    "    return M"
   ]
  },
  {
   "cell_type": "code",
   "execution_count": 82,
   "metadata": {},
   "outputs": [],
   "source": [
    "def sample_pop_cov(p, diag=False):\n",
    "    if diag:\n",
    "        return sample_diagEig_mtx(p)\n",
    "    else:\n",
    "        O = sample_rand_orthogonal_mtx(p)\n",
    "        M = sample_diagEig_mtx(p)\n",
    "        # O M O.T preserves original eigenvalues (O is an orthogonal rotation)\n",
    "        return np.matmul(np.matmul(O, M), O.T) # sampling \\Sigma"
   ]
  },
  {
   "cell_type": "code",
   "execution_count": 83,
   "metadata": {},
   "outputs": [],
   "source": [
    "def sample_dataset(p, n):\n",
    "    Sigma = sample_pop_cov(p)\n",
    "    X = np.random.multivariate_normal(np.random.randn(p), Sigma, size=n)\n",
    "    return X, Sigma"
   ]
  },
  {
   "cell_type": "code",
   "execution_count": 85,
   "metadata": {},
   "outputs": [
    {
     "output_type": "stream",
     "name": "stdout",
     "text": [
      "Dataset size: (600, 200)\nSigma shape: (200, 200)\n"
     ]
    }
   ],
   "source": [
    "P, N = 200, 600 \n",
    "\n",
    "X, Sigma = sample_dataset(p=P, n=N)\n",
    "\n",
    "print('Dataset size:', X.shape)\n",
    "print('Sigma shape:', Sigma.shape)"
   ]
  },
  {
   "cell_type": "code",
   "execution_count": 86,
   "metadata": {},
   "outputs": [],
   "source": [
    "analshr = AnalyticalShrinkage()\n",
    "linshr = LinearShrinkage()\n",
    "sample_est = SampleEstimator()\n",
    "fsopt_est = FSOptEstimator(Sigma)\n",
    "eb_est = EmpiricalBayesianEstimator()"
   ]
  },
  {
   "cell_type": "code",
   "execution_count": null,
   "metadata": {},
   "outputs": [],
   "source": []
  },
  {
   "cell_type": "code",
   "execution_count": null,
   "metadata": {},
   "outputs": [],
   "source": []
  },
  {
   "cell_type": "code",
   "execution_count": null,
   "metadata": {},
   "outputs": [],
   "source": []
  }
 ]
}